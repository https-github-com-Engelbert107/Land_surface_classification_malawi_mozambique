{
 "cells": [
  {
   "cell_type": "code",
   "execution_count": 1,
   "id": "ec967909",
   "metadata": {},
   "outputs": [],
   "source": [
    "import ee\n",
    "import geemap\n",
    "import folium\n",
    "import matplotlib.pyplot as plt\n",
    "from radiant_mlhub import Dataset"
   ]
  },
  {
   "cell_type": "code",
   "execution_count": 3,
   "id": "7304d5e8",
   "metadata": {},
   "outputs": [
    {
     "data": {
      "text/html": [
       "<p>To authorize access needed by Earth Engine, open the following\n",
       "        URL in a web browser and follow the instructions:</p>\n",
       "        <p><a href=https://accounts.google.com/o/oauth2/auth?client_id=517222506229-vsmmajv00ul0bs7p89v5m89qs8eb9359.apps.googleusercontent.com&scope=https%3A%2F%2Fwww.googleapis.com%2Fauth%2Fearthengine+https%3A%2F%2Fwww.googleapis.com%2Fauth%2Fdevstorage.full_control&redirect_uri=urn%3Aietf%3Awg%3Aoauth%3A2.0%3Aoob&response_type=code&code_challenge=tPgixtBjGKeWhbttcwuKQY-alHtDk3ATYR4SY4mDRTA&code_challenge_method=S256>https://accounts.google.com/o/oauth2/auth?client_id=517222506229-vsmmajv00ul0bs7p89v5m89qs8eb9359.apps.googleusercontent.com&scope=https%3A%2F%2Fwww.googleapis.com%2Fauth%2Fearthengine+https%3A%2F%2Fwww.googleapis.com%2Fauth%2Fdevstorage.full_control&redirect_uri=urn%3Aietf%3Awg%3Aoauth%3A2.0%3Aoob&response_type=code&code_challenge=tPgixtBjGKeWhbttcwuKQY-alHtDk3ATYR4SY4mDRTA&code_challenge_method=S256</a></p>\n",
       "        <p>The authorization workflow will generate a code, which you\n",
       "        should paste in the box below</p>\n",
       "        "
      ],
      "text/plain": [
       "<IPython.core.display.HTML object>"
      ]
     },
     "metadata": {},
     "output_type": "display_data"
    },
    {
     "name": "stdout",
     "output_type": "stream",
     "text": [
      "Enter verification code: 4/1AX4XfWgGNeimSiE38XpSv9gFHOGYhf6huMfJdtvFKlJELerJXiQl19Gdusg\n",
      "\n",
      "Successfully saved authorization token.\n"
     ]
    }
   ],
   "source": [
    "ee.Authenticate()\n",
    "ee.Initialize()"
   ]
  },
  {
   "cell_type": "code",
   "execution_count": 67,
   "id": "e2fdb1c6",
   "metadata": {},
   "outputs": [],
   "source": [
    "# Area Of Interest\n",
    "\n",
    "geojson = {\n",
    "  \"type\": \"FeatureCollection\",\n",
    "  \"features\": [\n",
    "    {\n",
    "      \"type\": \"Feature\",\n",
    "      \"properties\": {},\n",
    "      \"geometry\": {\n",
    "        \"type\": \"Polygon\",\n",
    "        \"coordinates\": [\n",
    "          [\n",
    "            [\n",
    "              34.73876953125,\n",
    "              -13.432366575813747\n",
    "            ],\n",
    "            [\n",
    "              36.826171875,\n",
    "              -13.432366575813747\n",
    "            ],\n",
    "            [\n",
    "              36.826171875,\n",
    "              -11.802834233547674\n",
    "            ],\n",
    "            [\n",
    "              34.73876953125,\n",
    "              -11.802834233547674\n",
    "            ],\n",
    "            [\n",
    "              34.73876953125,\n",
    "              -13.432366575813747\n",
    "            ]\n",
    "          ]\n",
    "        ]\n",
    "      }\n",
    "    }\n",
    "  ]\n",
    "}\n",
    "\n",
    "coords = geojson['features'][0]['geometry']['coordinates']\n",
    "AOI = ee.Geometry.Polygon(coords)"
   ]
  },
  {
   "cell_type": "code",
   "execution_count": 68,
   "id": "abbd9a7d",
   "metadata": {},
   "outputs": [],
   "source": [
    "# Add data to the map\n",
    "Map = geemap.Map()\n",
    "\n",
    "#point = ee.Geometry.Point([-87.7719, 41.8799])\n",
    "\n",
    "image = ee.ImageCollection(\"LANDSAT/LC08/C01/T1_RT_TOA\") \\\n",
    "    .filterBounds(AOI) \\\n",
    "    .filterDate('2020-09-01', '2021-03-30') \\\n",
    "    .sort('CLOUD_COVER') \\\n",
    "    .first() \\\n",
    "    .select('B[1-7]')\n",
    "\n",
    "vis_params = {\n",
    "    'min': 0,\n",
    "    'max': 3000,\n",
    "    'bands': ['B5', 'B4']\n",
    "}\n",
    "\n",
    "Map.centerObject(AOI, 7)\n",
    "Map.addLayer(image, vis_params, \"Landsat-8\")"
   ]
  },
  {
   "cell_type": "code",
   "execution_count": 69,
   "id": "09339d5b",
   "metadata": {},
   "outputs": [
    {
     "data": {
      "application/vnd.jupyter.widget-view+json": {
       "model_id": "049ea4576bb74b4b8f9982283be54889",
       "version_major": 2,
       "version_minor": 0
      },
      "text/plain": [
       "Map(center=[-12.6187616422214, 35.78247070312495], controls=(WidgetControl(options=['position', 'transparent_b…"
      ]
     },
     "metadata": {},
     "output_type": "display_data"
    }
   ],
   "source": [
    "Map"
   ]
  },
  {
   "cell_type": "code",
   "execution_count": 75,
   "id": "95e957d6",
   "metadata": {},
   "outputs": [],
   "source": [
    "training = image.sample(**{\n",
    "    'region': AOI,\n",
    "    'scale': 30,\n",
    "    'numPixels': 5000,\n",
    "    'seed': 0,\n",
    "    'geometries': True  # Set this to False to ignore geometries\n",
    "})\n",
    "\n",
    "Map.addLayer(training, {}, 'training', False)\n",
    "\n",
    "# Instantiate the clusterer and train it.\n",
    "n_clusters = 3\n",
    "clusterer = ee.Clusterer.wekaKMeans(n_clusters).train(training)"
   ]
  },
  {
   "cell_type": "code",
   "execution_count": 80,
   "id": "d70fb3ae",
   "metadata": {},
   "outputs": [],
   "source": [
    "# Classify the image\n",
    "\n",
    "legend_colors = ['red', 'green', 'yellow']\n",
    "\n",
    "# Cluster the input using the trained clusterer.\n",
    "result = image.cluster(clusterer)\n",
    "\n",
    "# # Display the clusters with random colors.\n",
    "Map.addLayer(result.randomVisualizer(), {}, 'clusters')"
   ]
  },
  {
   "cell_type": "code",
   "execution_count": 81,
   "id": "bc4429e3",
   "metadata": {},
   "outputs": [
    {
     "name": "stdout",
     "output_type": "stream",
     "text": [
      "The legend colors must be a list of tuples.\n"
     ]
    }
   ],
   "source": [
    "# Label the clusters\n",
    "\n",
    "legend_keys = ['One', 'Two', 'Three']\n",
    "legend_colors = ['red', 'green', 'yellow']\n",
    "\n",
    "# Reclassify the map\n",
    "result = result.remap([0, 1, 2], [1, 2, 3])\n",
    "\n",
    "Map.addLayer(result, {'min': 1, 'max': 3, 'palette': legend_colors}, 'Labelled clusters')\n",
    "Map.add_legend(legend_keys=legend_keys, legend_colors=legend_colors, position='bottomright')"
   ]
  },
  {
   "cell_type": "code",
   "execution_count": 82,
   "id": "d11ca427",
   "metadata": {
    "scrolled": false
   },
   "outputs": [
    {
     "data": {
      "application/vnd.jupyter.widget-view+json": {
       "model_id": "049ea4576bb74b4b8f9982283be54889",
       "version_major": 2,
       "version_minor": 0
      },
      "text/plain": [
       "Map(bottom=17842.0, center=[-12.618897304044012, 35.77148437500001], controls=(WidgetControl(options=['positio…"
      ]
     },
     "metadata": {},
     "output_type": "display_data"
    }
   ],
   "source": [
    "Map"
   ]
  },
  {
   "cell_type": "markdown",
   "id": "2f52c3a2",
   "metadata": {},
   "source": [
    "The same inputs should always produce the same outputs, but reordering the inputs can change the results."
   ]
  },
  {
   "cell_type": "code",
   "execution_count": null,
   "id": "57505c5d",
   "metadata": {},
   "outputs": [],
   "source": []
  }
 ],
 "metadata": {
  "kernelspec": {
   "display_name": "Python 3 (ipykernel)",
   "language": "python",
   "name": "python3"
  },
  "language_info": {
   "codemirror_mode": {
    "name": "ipython",
    "version": 3
   },
   "file_extension": ".py",
   "mimetype": "text/x-python",
   "name": "python",
   "nbconvert_exporter": "python",
   "pygments_lexer": "ipython3",
   "version": "3.9.7"
  }
 },
 "nbformat": 4,
 "nbformat_minor": 5
}
