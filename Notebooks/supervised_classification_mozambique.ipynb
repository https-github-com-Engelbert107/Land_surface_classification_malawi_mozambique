{
 "cells": [
  {
   "cell_type": "code",
   "execution_count": 10,
   "id": "976b44ae",
   "metadata": {},
   "outputs": [],
   "source": [
    "#!pip install -U datascienv"
   ]
  },
  {
   "cell_type": "code",
   "execution_count": 37,
   "id": "5f251089",
   "metadata": {},
   "outputs": [],
   "source": [
    "import ee\n",
    "import folium\n",
    "import geemap\n",
    "import numpy as np\n",
    "import pandas as pd\n",
    "import seaborn as sns\n",
    "import matplotlib.pyplot as plt"
   ]
  },
  {
   "cell_type": "code",
   "execution_count": 11,
   "id": "2758abb9",
   "metadata": {},
   "outputs": [
    {
     "data": {
      "text/html": [
       "<p>To authorize access needed by Earth Engine, open the following\n",
       "        URL in a web browser and follow the instructions:</p>\n",
       "        <p><a href=https://accounts.google.com/o/oauth2/auth?client_id=517222506229-vsmmajv00ul0bs7p89v5m89qs8eb9359.apps.googleusercontent.com&scope=https%3A%2F%2Fwww.googleapis.com%2Fauth%2Fearthengine+https%3A%2F%2Fwww.googleapis.com%2Fauth%2Fdevstorage.full_control&redirect_uri=urn%3Aietf%3Awg%3Aoauth%3A2.0%3Aoob&response_type=code&code_challenge=gB3DYQYAOt15hZQyTnvsWdZfBBi_AEm3sesm-uX-CBQ&code_challenge_method=S256>https://accounts.google.com/o/oauth2/auth?client_id=517222506229-vsmmajv00ul0bs7p89v5m89qs8eb9359.apps.googleusercontent.com&scope=https%3A%2F%2Fwww.googleapis.com%2Fauth%2Fearthengine+https%3A%2F%2Fwww.googleapis.com%2Fauth%2Fdevstorage.full_control&redirect_uri=urn%3Aietf%3Awg%3Aoauth%3A2.0%3Aoob&response_type=code&code_challenge=gB3DYQYAOt15hZQyTnvsWdZfBBi_AEm3sesm-uX-CBQ&code_challenge_method=S256</a></p>\n",
       "        <p>The authorization workflow will generate a code, which you\n",
       "        should paste in the box below</p>\n",
       "        "
      ],
      "text/plain": [
       "<IPython.core.display.HTML object>"
      ]
     },
     "metadata": {},
     "output_type": "display_data"
    },
    {
     "name": "stdout",
     "output_type": "stream",
     "text": [
      "Enter verification code: 4/1AX4XfWjyuwXd387byOT-VrBga3J9Yi8dgELglIdkHufw4TfK4EP_nZ7GxAE\n",
      "\n",
      "Successfully saved authorization token.\n"
     ]
    }
   ],
   "source": [
    "# Authenticate to the Earth Engine servers\n",
    "# Initialize the API\n",
    "\n",
    "ee.Authenticate()\n",
    "ee.Initialize()"
   ]
  },
  {
   "cell_type": "markdown",
   "id": "f212d9db",
   "metadata": {},
   "source": [
    "## Classification with Random Forest"
   ]
  },
  {
   "cell_type": "markdown",
   "id": "1d03224d",
   "metadata": {},
   "source": [
    "The `Classifier` package handles supervised classification in Earth Engine and the general workflow for classification is:\n",
    "\n",
    "1. Collect training data. Assemble features which have a property that stores the known class label and properties storing numeric values for the predictors.\n",
    "\n",
    "2. Instantiate a classifier. Set its parameters if necessary.\n",
    "3. Train the classifier using the training data.\n",
    "4. Classify an image or feature collection.\n",
    "5. Estimate classification error with independent test data."
   ]
  },
  {
   "cell_type": "markdown",
   "id": "2a860c1a",
   "metadata": {},
   "source": [
    "- The training data is a `FeatureCollection` with a property storing the class label and properties storing predictor variables.\n",
    "- Class labels should be consecutive, integers starting from 0. If necessary, use `remap()` to convert class values to consecutive integers. The predictors should be numeric.\n",
    "- Training and/or testing data can come from a variety of sources. \n",
    "- To collect training data interactively in Earth Engine, you can use the geometry drawing tools (see the [Code Editor section](https://developers.google.com/earth-engine/playground)). \n",
    "- Alternatively, you can import predefined training data from an Earth Engine table asset or a Fusion Table (see the [Importing section](https://developers.google.com/earth-engine/importing) for details). \n",
    "- Get a classifier from one of the constructors in `ee.Classifier`. Train the classifier using `classifier.train()`. Classify an `Image` or `FeatureCollection` using `classify()`."
   ]
  },
  {
   "cell_type": "markdown",
   "id": "6eabfa40",
   "metadata": {},
   "source": [
    "We use random forest classifier with 10 trees to downscale MODIS data to Landsat resolution. The `sample()` method generates two random samples from the MODIS data: one for training and one for test. The training sample is used to train the classifier. You can get resubstitution accuracy on the training data from `classifier.confusionMatrix()`. To get test accuracy, classify the test data. This adds a `classification` property to the test `FeatureCollection`. Call `errorMatrix()` on the classified `FeatureCollection` to get a confusion matrix representing test (expected) accuracy."
   ]
  },
  {
   "cell_type": "code",
   "execution_count": 12,
   "id": "5f3dec81",
   "metadata": {},
   "outputs": [],
   "source": [
    "geojson = {\n",
    "  \"type\": \"FeatureCollection\",\n",
    "  \"features\": [\n",
    "    {\n",
    "      \"type\": \"Feature\",\n",
    "      \"properties\": {},\n",
    "      \"geometry\": {\n",
    "        \"type\": \"Point\",\n",
    "        \"coordinates\": [\n",
    "          36.76025390625,\n",
    "          -13.304102866767076\n",
    "        ]\n",
    "      }\n",
    "    }\n",
    "  ]\n",
    "}"
   ]
  },
  {
   "cell_type": "code",
   "execution_count": 53,
   "id": "85363f24",
   "metadata": {},
   "outputs": [
    {
     "name": "stdout",
     "output_type": "stream",
     "text": [
      "The number of total images is : 4859\n",
      "\n",
      "The number of images for training Partition is : 3494\n",
      "\n",
      "Resubstitution error matrix : [[0, 0, 0, 0, 0, 0, 0, 0, 0, 0, 0, 0, 0, 0, 0], [0, 0, 0, 0, 0, 0, 0, 0, 0, 0, 0, 0, 0, 0, 0], [0, 0, 0, 0, 0, 0, 0, 0, 0, 0, 0, 0, 0, 0, 0], [0, 0, 0, 0, 0, 0, 0, 0, 0, 0, 0, 0, 0, 0, 0], [0, 0, 0, 0, 0, 0, 0, 0, 0, 0, 0, 0, 0, 0, 0], [0, 0, 0, 0, 0, 27, 0, 0, 2, 6, 0, 0, 0, 0, 0], [0, 0, 0, 0, 0, 0, 0, 0, 0, 0, 0, 0, 0, 0, 0], [0, 0, 0, 0, 0, 0, 0, 0, 0, 0, 0, 0, 0, 0, 0], [0, 0, 0, 0, 0, 0, 0, 0, 2013, 35, 0, 0, 0, 0, 0], [0, 0, 0, 0, 0, 0, 0, 0, 133, 1218, 0, 0, 0, 0, 0], [0, 0, 0, 0, 0, 0, 0, 0, 0, 0, 0, 0, 0, 0, 0], [0, 0, 0, 0, 0, 0, 0, 0, 0, 0, 0, 0, 0, 0, 0], [0, 0, 0, 0, 0, 0, 0, 0, 2, 2, 0, 0, 4, 0, 0], [0, 0, 0, 0, 0, 0, 0, 0, 2, 0, 0, 0, 0, 2, 0], [0, 0, 0, 0, 0, 0, 0, 0, 4, 9, 0, 0, 0, 0, 35]]\n",
      "\n",
      "Training accuracy is : 94.42 %\n",
      "\n",
      "The number of images for test Partition is : 1365\n",
      "\n",
      "Test error matrix : [[0, 0, 0, 0, 0, 0, 0, 0, 0, 0, 0, 0, 0, 0, 0], [0, 0, 0, 0, 0, 0, 0, 0, 0, 0, 0, 0, 0, 0, 0], [0, 0, 0, 0, 0, 0, 0, 0, 0, 0, 0, 0, 0, 0, 0], [0, 0, 0, 0, 0, 0, 0, 0, 0, 0, 0, 0, 0, 0, 0], [0, 0, 0, 0, 0, 0, 0, 0, 0, 0, 0, 0, 0, 0, 0], [0, 0, 0, 0, 0, 0, 0, 0, 6, 7, 0, 0, 0, 0, 0], [0, 0, 0, 0, 0, 0, 0, 0, 0, 0, 0, 0, 0, 0, 0], [0, 0, 0, 0, 0, 0, 0, 0, 0, 0, 0, 0, 0, 0, 0], [0, 0, 0, 0, 0, 0, 0, 0, 774, 116, 0, 0, 0, 0, 1], [0, 0, 0, 0, 0, 0, 0, 0, 195, 248, 0, 0, 0, 0, 0], [0, 0, 0, 0, 0, 0, 0, 0, 1, 0, 0, 0, 0, 0, 0], [0, 0, 0, 0, 0, 0, 0, 0, 0, 0, 0, 0, 0, 0, 0], [0, 0, 0, 0, 0, 0, 0, 0, 1, 2, 0, 0, 0, 0, 0], [0, 0, 0, 0, 0, 0, 0, 0, 0, 0, 0, 0, 0, 0, 0], [0, 0, 0, 0, 0, 0, 0, 0, 4, 10, 0, 0, 0, 0, 0]]\n",
      "\n",
      "Test accuracy is : 74.87 %\n"
     ]
    }
   ],
   "source": [
    "# Add map\n",
    "map1 = geemap.Map()\n",
    "\n",
    "# Define a region of interest as a point.  Change the coordinates\n",
    "# to get a classification of any place where there is imagery.\n",
    "coords = geojson['features'][0]['geometry']['coordinates']\n",
    "AOI = ee.Geometry.Point(coords)\n",
    "\n",
    "# Chosen bands \n",
    "bands = ['B1', 'B2', 'B3', 'B4', 'B5', 'B6', 'B7', 'B8', 'B9', 'B10', 'B11']\n",
    "\n",
    "\n",
    "# Load Landsat 8 input imagery.\n",
    "# 1. Filter to get only one year of images.\n",
    "# 2. Filter to get only images under the region of interest.\n",
    "# 3. Sort by scene cloudiness, ascending.\n",
    "# 4. Get the first (least cloudy) scene.\n",
    "# 5. Select the bands \n",
    "landsat = ee.Image(ee.ImageCollection(\"LANDSAT/LC08/C01/T1_RT_TOA\")\\\n",
    "                   .filterDate('2011-01-01', '2021-09-30')\\\n",
    "                   .filterBounds(AOI)\\\n",
    "                   .sort('CLOUD_COVER')\\\n",
    "                   .first()\\\n",
    "                   .select(bands))\n",
    "\n",
    "# Compute cloud score.\n",
    "cloudScore = ee.Algorithms.Landsat.simpleCloudScore(landsat).select('cloud')\n",
    "\n",
    "# Mask the input for clouds.  Compute the min of the input mask to mask\n",
    "# pixels where any band is masked.  Combine that with the cloud mask.\n",
    "Input = landsat.updateMask(landsat.mask().reduce('min').And(cloudScore.lte(90)))\n",
    "\n",
    "# Use MODIS land cover, IGBP (International Geosphere-Biosphere Program) classification, for training.\n",
    "# This data set is one of the products of the International Satellite Land-Surface Climatology Project, \n",
    "# Initiative II (ISLSCP II) data collection.\n",
    "modis = ee.Image('MODIS/051/MCD12Q1/2013_01_01').select('Land_Cover_Type_1')\n",
    "\n",
    "# Sample the input imagery to get a FeatureCollection of training data.\n",
    "# Get the values for all pixels in each polygon in the training.\n",
    "training = Input.addBands(modis).sample(numPixels=5000, seed=0)\n",
    "print(f\"The number of total images is : {training.size().getInfo()}\")\n",
    "print()\n",
    "\n",
    "\n",
    "# The randomColumn() method will add a column of uniform random\n",
    "# numbers in a column named 'random' by default.\n",
    "sample = training.randomColumn(seed=0)\n",
    "\n",
    "# Roughly 70% training, 30% testing.\n",
    "split = 0.7  \n",
    "trainingPartition = sample.filter(ee.Filter.lt('random', split))\n",
    "testingPartition = sample.filter(ee.Filter.gte('random', split))\n",
    "\n",
    "# Make a Random Forest classifier and train it.\n",
    "trainedclassifier = ee.Classifier.smileRandomForest(10).train(trainingPartition, 'Land_Cover_Type_1', inputProperties=bands)\n",
    "\n",
    "# Classify the input imagery.\n",
    "classified = Input.classify(trainedclassifier)\n",
    "\n",
    "# Get a confusion matrix representing resubstitution accuracy.\n",
    "trainAccuracy = trainedclassifier.confusionMatrix()\n",
    "\n",
    "# train confusion matrix into pandas\n",
    "trainConfusionMat = pd.DataFrame(np.asarray(trainAccuracy.getInfo()))\n",
    "\n",
    "print(f\"The number of images for training Partition is : {trainingPartition.size().getInfo()}\")\n",
    "print()\n",
    "print(f\"Resubstitution error matrix : {trainAccuracy.getInfo()}\")\n",
    "print()\n",
    "print(f\"Training accuracy is : {100 *  trainAccuracy.accuracy().getInfo():.2f} %\")\n",
    "print()\n",
    "\n",
    "\n",
    "# Classify the testing data.\n",
    "tested = testingPartition.classify(trainedclassifier)\n",
    "\n",
    "# Get a confusion matrix representing expected accuracy.\n",
    "testAccuracy = tested.errorMatrix('Land_Cover_Type_1', 'classification')\n",
    "\n",
    "# test error matrix into pandas\n",
    "testErrorMat = pd.DataFrame(np.asarray(testAccuracy.getInfo()))\n",
    "\n",
    "print(f\"The number of images for test Partition is : {testingPartition.size().getInfo()}\")\n",
    "print()\n",
    "print(f\"Test error matrix : {testAccuracy.getInfo()}\")\n",
    "print()\n",
    "print(f\"Test accuracy is : {100 * testAccuracy.accuracy().getInfo():.2f} %\")\n",
    "\n",
    "# Define a palette for the IGBP classification.\n",
    "igbpPalette = [\n",
    "  'aec3d4', # water\n",
    "  '152106', '225129', '369b47', '30eb5b', '387242', # forest\n",
    "  '6a2325', 'c3aa69', 'b76031', 'd9903d', '91af40',  # shrub, grass\n",
    "  '111149', # wetlands\n",
    "  'cdb33b', # croplands\n",
    "  'cc0013', # urban\n",
    "  '33280d', # crop mosaic\n",
    "  'd7cdcc', # snow and ice\n",
    "  'f7e084', # barren\n",
    "  '6f6f6f'  # tundra\n",
    "]\n",
    "\n",
    "# # Display the input and the classification.\n",
    "# Input_token = Input.getMapId({'bands': ['B4', 'B3'], 'max': 0.5}) \n",
    "# classified_token = classified.getMapId({'palette': igbpPalette, 'min': 0, 'max': 17})\n",
    "# center = [-12.57, 35.52]\n",
    "# Mapdisplay(center, {'Landsat':Input_token,'LandUse':classified_token}, zoom_start=8)\n",
    "\n",
    "# Display the input and the classification.\n",
    "map1.centerObject(AOI, 8)\n",
    "map1.addLayer(Input, {'bands': ['B5', 'B4', 'B2'], 'max': 0.4}, 'landsat') # L8 B5=NIR B4=Red B2=Blue\n",
    "map1.addLayer(classified, {'palette': igbpPalette, 'min': 0, 'max': 17}, 'classification')\n",
    "\n",
    "\n",
    "# Add legend\n",
    "legend_keys = ['water', 'forest', 'forest', 'forest', 'forest', 'forest', 'shrub, grass', \n",
    "               'shrub, grass', 'shrub, grass', 'shrub , grass', 'shrub , grass', 'wetlands', \n",
    "               'croplands', 'urban', 'crop mosaic', 'snow and ice', 'barren', 'tundra']\n",
    "\n",
    "legend_colors = ['aec3d4', '152106', '225129', '369b47', '30eb5b', '387242', '6a2325', \n",
    "                 'c3aa69', 'b76031', 'd9903d', '91af40', '111149', 'cdb33b', 'cc0013',\n",
    "                 '33280d', 'd7cdcc', 'f7e084', '6f6f6f']\n",
    "# legend_colors = ['blue', 'blueviolet', 'blueviolet', 'blueviolet', 'blueviolet', 'blueviolet', 'gray', \n",
    "#                  'gray', 'gray', 'gray', 'gray', 'maroon', 'green', 'yellow',\n",
    "#                  'black', 'chocolate', 'cyan', 'darkorange']\n",
    "\n",
    "\n",
    "# Classify the input imagery.\n",
    "classified = classified.remap([0,1,2,3,4,5,6,7,8,9,10,11,12,13,14,15,16], [1,2,3,4,5,6,7,8,9,10,11,12,13,14,15,16,17])\n",
    "\n",
    "map1.addLayer(classified, {'min': 0, 'max': 17, 'palette': legend_colors}, 'Labelled clusters')\n",
    "map1.add_legend(legend_keys=legend_keys, legend_colors=legend_colors, position='bottomright')"
   ]
  },
  {
   "cell_type": "markdown",
   "id": "ec98ce59",
   "metadata": {},
   "source": [
    "The accuracy estimated from training data is an overestimate because the random forest is \"fit\" to the training data. The expected accuracy on unknown data is a too lower, as indicated by the estimate from the test data.\n",
    "\n",
    "This test accuracy is bad for Landsat 8: **overfitting**"
   ]
  },
  {
   "cell_type": "code",
   "execution_count": 44,
   "id": "81c12143",
   "metadata": {},
   "outputs": [
    {
     "data": {
      "application/vnd.jupyter.widget-view+json": {
       "model_id": "52d7d237333a4321850eef7d7cc973b9",
       "version_major": 2,
       "version_minor": 0
      },
      "text/plain": [
       "Map(center=[-13.304102866767076, 36.76025390625], controls=(WidgetControl(options=['position', 'transparent_bg…"
      ]
     },
     "metadata": {},
     "output_type": "display_data"
    }
   ],
   "source": [
    "map1"
   ]
  },
  {
   "cell_type": "code",
   "execution_count": 6,
   "id": "27f36d73",
   "metadata": {},
   "outputs": [
    {
     "name": "stdout",
     "output_type": "stream",
     "text": [
      "<class 'list'>\n",
      "[{'id': 'cloud', 'data_type': {'type': 'PixelType', 'precision': 'int', 'min': 0, 'max': 100}, 'dimensions': [7601, 7731], 'crs': 'EPSG:32637', 'crs_transform': [30, 0, 243585, 0, -30, -1323285]}]\n"
     ]
    }
   ],
   "source": [
    "print(type(trainAccuracy.getInfo()))\n",
    "print(cloudScore.getInfo()['bands'])"
   ]
  },
  {
   "cell_type": "code",
   "execution_count": 17,
   "id": "78600a03",
   "metadata": {},
   "outputs": [
    {
     "data": {
      "image/png": "[encoded data removed]",
      "text/plain": [
       "<Figure size 720x720 with 2 Axes>"
      ]
     },
     "metadata": {
      "needs_background": "light"
     },
     "output_type": "display_data"
    }
   ],
   "source": [
    "trainCM_L8 = trainConfusionMat/trainingPartition.size().getInfo()\n",
    "\n",
    "fig, ax = plt.subplots(1, figsize=(10,10))\n",
    "sns.heatmap(trainCM_L8, annot=True)\n",
    "ax.set_xlabel('model predictions', fontsize=10)\n",
    "ax.set_ylabel('actual', fontsize=10)\n",
    "plt.title(\"Training data confusion matrix\", fontsize=15);"
   ]
  },
  {
   "cell_type": "code",
   "execution_count": 18,
   "id": "e7a24153",
   "metadata": {},
   "outputs": [
    {
     "data": {
      "image/png": "[encoded data removed]",
      "text/plain": [
       "<Figure size 720x720 with 2 Axes>"
      ]
     },
     "metadata": {
      "needs_background": "light"
     },
     "output_type": "display_data"
    }
   ],
   "source": [
    "testEM_L8 = testErrorMat/testingPartition.size().getInfo()\n",
    "\n",
    "fig, ax = plt.subplots(1, figsize=(10,10))\n",
    "sns.heatmap(testEM_L8, annot=True)\n",
    "ax.set_xlabel('model predictions', fontsize=10)\n",
    "ax.set_ylabel('actual', fontsize=10)\n",
    "plt.title(\"Test data error matrix\", fontsize=15);"
   ]
  },
  {
   "cell_type": "markdown",
   "id": "b3cb9f7e",
   "metadata": {},
   "source": [
    "#### Let's add the number of trees"
   ]
  },
  {
   "cell_type": "code",
   "execution_count": 52,
   "id": "17631e50",
   "metadata": {},
   "outputs": [
    {
     "name": "stdout",
     "output_type": "stream",
     "text": [
      "The number of total images is : 4859\n",
      "\n",
      "The number of images for training Partition is : 3494\n",
      "\n",
      "Resubstitution error matrix : [[0, 0, 0, 0, 0, 0, 0, 0, 0, 0, 0, 0, 0, 0, 0], [0, 0, 0, 0, 0, 0, 0, 0, 0, 0, 0, 0, 0, 0, 0], [0, 0, 0, 0, 0, 0, 0, 0, 0, 0, 0, 0, 0, 0, 0], [0, 0, 0, 0, 0, 0, 0, 0, 0, 0, 0, 0, 0, 0, 0], [0, 0, 0, 0, 0, 0, 0, 0, 0, 0, 0, 0, 0, 0, 0], [0, 0, 0, 0, 0, 29, 0, 0, 2, 4, 0, 0, 0, 0, 0], [0, 0, 0, 0, 0, 0, 0, 0, 0, 0, 0, 0, 0, 0, 0], [0, 0, 0, 0, 0, 0, 0, 0, 0, 0, 0, 0, 0, 0, 0], [0, 0, 0, 0, 0, 0, 0, 0, 2035, 13, 0, 0, 0, 0, 0], [0, 0, 0, 0, 0, 0, 0, 0, 69, 1282, 0, 0, 0, 0, 0], [0, 0, 0, 0, 0, 0, 0, 0, 0, 0, 0, 0, 0, 0, 0], [0, 0, 0, 0, 0, 0, 0, 0, 0, 0, 0, 0, 0, 0, 0], [0, 0, 0, 0, 0, 0, 0, 0, 0, 0, 0, 0, 8, 0, 0], [0, 0, 0, 0, 0, 0, 0, 0, 0, 0, 0, 0, 0, 4, 0], [0, 0, 0, 0, 0, 0, 0, 0, 5, 4, 0, 0, 0, 0, 39]]\n",
      "\n",
      "Training accuracy is : 97.22 %\n",
      "\n",
      "The number of images for test Partition is : 1365\n",
      "\n",
      "Test error matrix : [[0, 0, 0, 0, 0, 0, 0, 0, 0, 0, 0, 0, 0, 0, 0], [0, 0, 0, 0, 0, 0, 0, 0, 0, 0, 0, 0, 0, 0, 0], [0, 0, 0, 0, 0, 0, 0, 0, 0, 0, 0, 0, 0, 0, 0], [0, 0, 0, 0, 0, 0, 0, 0, 0, 0, 0, 0, 0, 0, 0], [0, 0, 0, 0, 0, 0, 0, 0, 0, 0, 0, 0, 0, 0, 0], [0, 0, 0, 0, 0, 0, 0, 0, 5, 8, 0, 0, 0, 0, 0], [0, 0, 0, 0, 0, 0, 0, 0, 0, 0, 0, 0, 0, 0, 0], [0, 0, 0, 0, 0, 0, 0, 0, 0, 0, 0, 0, 0, 0, 0], [0, 0, 0, 0, 0, 0, 0, 0, 763, 127, 0, 0, 0, 0, 1], [0, 0, 0, 0, 0, 0, 0, 0, 187, 256, 0, 0, 0, 0, 0], [0, 0, 0, 0, 0, 0, 0, 0, 0, 1, 0, 0, 0, 0, 0], [0, 0, 0, 0, 0, 0, 0, 0, 0, 0, 0, 0, 0, 0, 0], [0, 0, 0, 0, 0, 0, 0, 0, 0, 3, 0, 0, 0, 0, 0], [0, 0, 0, 0, 0, 0, 0, 0, 0, 0, 0, 0, 0, 0, 0], [0, 0, 0, 0, 0, 0, 0, 0, 4, 10, 0, 0, 0, 0, 0]]\n",
      "\n",
      "Test accuracy is : 74.65 %\n"
     ]
    }
   ],
   "source": [
    "# Add map\n",
    "map2 = geemap.Map()\n",
    "\n",
    "# Define a region of interest as a point.  Change the coordinates\n",
    "# to get a classification of any place where there is imagery.\n",
    "coords = geojson['features'][0]['geometry']['coordinates']\n",
    "AOI = ee.Geometry.Point(coords)\n",
    "\n",
    "# Chosen bands \n",
    "bands = ['B1', 'B2', 'B3', 'B4', 'B5', 'B6', 'B7', 'B8', 'B9', 'B10', 'B11']\n",
    "\n",
    "\n",
    "# Load Landsat 5 input imagery.\n",
    "# 1. Filter to get only one year of images.\n",
    "# 2. Filter to get only images under the region of interest.\n",
    "# 3. Sort by scene cloudiness, ascending.\n",
    "# 4. Get the first (least cloudy) scene.\n",
    "# 5. Select the bands\n",
    "landsat = ee.Image(ee.ImageCollection(\"LANDSAT/LC08/C01/T1_RT_TOA\")\\\n",
    "                   .filterDate('2011-01-01', '2021-09-30')\\\n",
    "                   .filterBounds(AOI)\\\n",
    "                   .sort('CLOUD_COVER')\\\n",
    "                   .first()\\\n",
    "                   .select(bands))\n",
    "\n",
    "# Compute cloud score.\n",
    "cloudScore = ee.Algorithms.Landsat.simpleCloudScore(landsat).select('cloud')\n",
    "\n",
    "# Mask the input for clouds.  Compute the min of the input mask to mask\n",
    "# pixels where any band is masked.  Combine that with the cloud mask.\n",
    "Input = landsat.updateMask(landsat.mask().reduce('min').And(cloudScore.lte(90)))\n",
    "\n",
    "# Use MODIS land cover, IGBP (International Geosphere-Biosphere Programme) classification, for training.\n",
    "# This data set is one of the products of the International Satellite Land-Surface Climatology Project, \n",
    "# Initiative II (ISLSCP II) data collection.\n",
    "modis = ee.Image('MODIS/051/MCD12Q1/2013_01_01').select('Land_Cover_Type_1')\n",
    "\n",
    "# Sample the input imagery to get a FeatureCollection of training data.\n",
    "# Get the values for all pixels in each polygon in the training.\n",
    "training = Input.addBands(modis).sample(numPixels=5000, seed=0)\n",
    "print(f\"The number of total images is : {training.size().getInfo()}\")\n",
    "print()\n",
    "\n",
    "\n",
    "# The randomColumn() method will add a column of uniform random\n",
    "# numbers in a column named 'random' by default.\n",
    "sample = training.randomColumn()\n",
    "\n",
    "# Roughly 70% training, 30% testing.\n",
    "split = 0.7  \n",
    "trainingPartition = sample.filter(ee.Filter.lt('random', split))\n",
    "testingPartition = sample.filter(ee.Filter.gte('random', split))\n",
    "\n",
    "# Make a Random Forest classifier and train it.\n",
    "trainedclassifier = ee.Classifier.smileRandomForest(20).train(trainingPartition, 'Land_Cover_Type_1', inputProperties=bands)\n",
    "\n",
    "# Classify the input imagery.\n",
    "classified = Input.classify(trainedclassifier)\n",
    "\n",
    "# Get a confusion matrix representing resubstitution accuracy.\n",
    "trainAccuracy = trainedclassifier.confusionMatrix()\n",
    "\n",
    "# train confusion matrix into pandas\n",
    "trainConfusionMat = pd.DataFrame(np.asarray(trainAccuracy.getInfo()))\n",
    "\n",
    "print(f\"The number of images for training Partition is : {trainingPartition.size().getInfo()}\")\n",
    "print()\n",
    "print(f\"Resubstitution error matrix : {trainAccuracy.getInfo()}\")\n",
    "print()\n",
    "print(f\"Training accuracy is : {100 *  trainAccuracy.accuracy().getInfo():.2f} %\")\n",
    "print()\n",
    "\n",
    "\n",
    "# Classify the testing data.\n",
    "tested = testingPartition.classify(trainedclassifier)\n",
    "\n",
    "# Get a confusion matrix representing expected accuracy.\n",
    "testAccuracy = tested.errorMatrix('Land_Cover_Type_1', 'classification')\n",
    "\n",
    "# test error matrix into pandas\n",
    "testErrorMat = pd.DataFrame(np.asarray(testAccuracy.getInfo()))\n",
    "\n",
    "print(f\"The number of images for test Partition is : {testingPartition.size().getInfo()}\")\n",
    "print()\n",
    "print(f\"Test error matrix : {testAccuracy.getInfo()}\")\n",
    "print()\n",
    "print(f\"Test accuracy is : {100 * testAccuracy.accuracy().getInfo():.2f} %\")\n",
    "\n",
    "# Define a palette for the IGBP classification.\n",
    "igbpPalette = [\n",
    "  'aec3d4', # water\n",
    "  '152106', '225129', '369b47', '30eb5b', '387242', # forest\n",
    "  '6a2325', 'c3aa69', 'b76031', 'd9903d', '91af40',  # shrub, grass\n",
    "  '111149', # wetlands\n",
    "  'cdb33b', # croplands\n",
    "  'cc0013', # urban\n",
    "  '33280d', # crop mosaic\n",
    "  'd7cdcc', # snow and ice\n",
    "  'f7e084', # barren\n",
    "  '6f6f6f'  # tundra\n",
    "]\n",
    "\n",
    "# # Display the input and the classification.\n",
    "# Input_token = Input.getMapId({'bands': ['B4', 'B3'], 'max': 0.5}) \n",
    "# classified_token = classified.getMapId({'palette': igbpPalette, 'min': 0, 'max': 17})\n",
    "# center = [-12.57, 35.52]\n",
    "# Mapdisplay(center, {'Landsat':Input_token,'LandUse':classified_token}, zoom_start=8)\n",
    "\n",
    "# Display the input and the classification.\n",
    "map2.centerObject(AOI, 8)\n",
    "map2.addLayer(Input, {'bands': ['B5', 'B4', 'B2'], 'max': 0.4}, 'landsat') # L8 B5=NIR B4=Red B2=Blue\n",
    "map2.addLayer(classified, {'palette': igbpPalette, 'min': 0, 'max': 17}, 'classification')\n",
    "\n",
    "\n",
    "# Add legend\n",
    "legend_keys = ['water', 'forest', 'forest', 'forest', 'forest', 'forest', 'shrub, grass', \n",
    "               'shrub, grass', 'shrub, grass', 'shrub , grass', 'shrub , grass', 'wetlands', \n",
    "               'croplands', 'urban', 'crop mosaic', 'snow and ice', 'barren', 'tundra']\n",
    "\n",
    "legend_colors = ['aec3d4', '152106', '225129', '369b47', '30eb5b', '387242', '6a2325', \n",
    "                 'c3aa69', 'b76031', 'd9903d', '91af40', '111149', 'cdb33b', 'cc0013',\n",
    "                 '33280d', 'd7cdcc', 'f7e084', '6f6f6f']\n",
    "# legend_colors = ['blue', 'blueviolet', 'blueviolet', 'blueviolet', 'blueviolet', 'blueviolet', 'gray', \n",
    "#                  'gray', 'gray', 'gray', 'gray', 'maroon', 'green', 'yellow',\n",
    "#                  'black', 'chocolate', 'cyan', 'darkorange']\n",
    "\n",
    "\n",
    "# Classify the input imagery.\n",
    "classified = classified.remap([0,1,2,3,4,5,6,7,8,9,10,11,12,13,14,15,16], [1,2,3,4,5,6,7,8,9,10,11,12,13,14,15,16,17])\n",
    "\n",
    "map2.addLayer(classified, {'min': 0, 'max': 17, 'palette': legend_colors}, 'Labelled clusters')\n",
    "map2.add_legend(legend_keys=legend_keys, legend_colors=legend_colors, position='bottomright')"
   ]
  },
  {
   "cell_type": "markdown",
   "id": "a49844dd",
   "metadata": {},
   "source": [
    "We still in **overfitting** situation."
   ]
  },
  {
   "cell_type": "code",
   "execution_count": 20,
   "id": "6b3be07a",
   "metadata": {},
   "outputs": [
    {
     "data": {
      "application/vnd.jupyter.widget-view+json": {
       "model_id": "d8be773a0ea943a09b327419969a4e2c",
       "version_major": 2,
       "version_minor": 0
      },
      "text/plain": [
       "Map(center=[-13.304102866767076, 36.76025390625], controls=(WidgetControl(options=['position', 'transparent_bg…"
      ]
     },
     "metadata": {},
     "output_type": "display_data"
    }
   ],
   "source": [
    "map2"
   ]
  },
  {
   "cell_type": "code",
   "execution_count": 54,
   "id": "2e210016",
   "metadata": {},
   "outputs": [
    {
     "name": "stdout",
     "output_type": "stream",
     "text": [
      "The number of total images is : 4587\n",
      "\n",
      "The number of images for training Partition is : 3249\n",
      "\n",
      "Resubstitution error matrix : [[0, 0, 0, 0, 0, 0, 0, 0, 0, 0, 0, 0, 0, 0, 0], [0, 0, 0, 0, 0, 0, 0, 0, 0, 0, 0, 0, 0, 0, 0], [0, 0, 2, 0, 0, 0, 0, 0, 1, 0, 0, 0, 0, 0, 0], [0, 0, 0, 0, 0, 0, 0, 0, 0, 0, 0, 0, 0, 0, 0], [0, 0, 0, 0, 0, 0, 0, 0, 0, 0, 0, 0, 0, 0, 0], [0, 0, 0, 0, 0, 19, 0, 0, 39, 0, 0, 0, 0, 0, 0], [0, 0, 0, 0, 0, 0, 0, 0, 0, 0, 0, 0, 0, 0, 0], [0, 0, 0, 0, 0, 0, 0, 0, 0, 0, 0, 0, 0, 0, 0], [0, 0, 0, 0, 0, 0, 0, 0, 3142, 0, 0, 0, 0, 0, 0], [0, 0, 0, 0, 0, 0, 0, 0, 27, 4, 0, 0, 0, 0, 0], [0, 0, 0, 0, 0, 0, 0, 0, 4, 0, 0, 0, 0, 0, 0], [0, 0, 0, 0, 0, 0, 0, 0, 0, 0, 0, 0, 0, 0, 0], [0, 0, 0, 0, 0, 0, 0, 0, 3, 0, 0, 0, 1, 0, 0], [0, 0, 0, 0, 0, 0, 0, 0, 1, 0, 0, 0, 0, 0, 0], [0, 0, 0, 0, 0, 0, 0, 0, 5, 0, 0, 0, 0, 0, 1]]\n",
      "\n",
      "Training accuracy is : 97.54 %\n",
      "\n",
      "The number of images for test Partition is : 1338\n",
      "\n",
      "Test error matrix : [[0, 0, 0, 0, 0, 0, 0, 0, 0, 0, 0, 0, 0, 0, 0], [0, 0, 0, 0, 0, 0, 0, 0, 0, 0, 0, 0, 0, 0, 0], [0, 0, 0, 0, 0, 0, 0, 0, 0, 0, 0, 0, 0, 0, 0], [0, 0, 0, 0, 0, 0, 0, 0, 0, 0, 0, 0, 0, 0, 0], [0, 0, 0, 0, 0, 0, 0, 0, 0, 0, 0, 0, 0, 0, 0], [0, 0, 0, 0, 0, 0, 0, 0, 27, 0, 0, 0, 0, 0, 0], [0, 0, 0, 0, 0, 0, 0, 0, 0, 0, 0, 0, 0, 0, 0], [0, 0, 0, 0, 0, 0, 0, 0, 0, 0, 0, 0, 0, 0, 0], [0, 0, 0, 0, 0, 0, 0, 0, 1289, 0, 0, 0, 0, 0, 0], [0, 0, 0, 0, 0, 0, 0, 0, 19, 0, 0, 0, 0, 0, 0], [0, 0, 0, 0, 0, 0, 0, 0, 1, 0, 0, 0, 0, 0, 0], [0, 0, 0, 0, 0, 0, 0, 0, 0, 0, 0, 0, 0, 0, 0], [0, 0, 0, 0, 0, 0, 0, 0, 0, 0, 0, 0, 0, 0, 0], [0, 0, 0, 0, 0, 0, 0, 0, 0, 0, 0, 0, 0, 0, 0], [0, 0, 0, 0, 0, 0, 0, 0, 2, 0, 0, 0, 0, 0, 0]]\n",
      "\n",
      "Test accuracy is : 96.34 %\n"
     ]
    },
    {
     "data": {
      "application/vnd.jupyter.widget-view+json": {
       "model_id": "d08b256c4ac14beca12fbcbf3597bc6f",
       "version_major": 2,
       "version_minor": 0
      },
      "text/plain": [
       "Map(center=[-13.304102866767076, 36.76025390625], controls=(WidgetControl(options=['position', 'transparent_bg…"
      ]
     },
     "metadata": {},
     "output_type": "display_data"
    }
   ],
   "source": [
    "# Add map\n",
    "map3 = geemap.Map()\n",
    "\n",
    "# Define a region of interest as a point.  Change the coordinates\n",
    "# to get a classification of any place where there is imagery.\n",
    "coords = geojson['features'][0]['geometry']['coordinates']\n",
    "AOI = ee.Geometry.Point(coords)\n",
    "\n",
    "# Chosen bands \n",
    "bands = [ 'B1','B2', 'B3', 'B4', 'B5', 'B6', 'B7']\n",
    "\n",
    "# Load Landsat 5 input imagery.\n",
    "# 1. Filter to get only one year of images.\n",
    "# 2. Filter to get only images under the region of interest.\n",
    "# 3. Sort by scene cloudiness, ascending.\n",
    "# 4. Get the first (least cloudy) scene.\n",
    "# 5. Select the bands\n",
    "landsat = ee.Image(ee.ImageCollection('LANDSAT/LT05/C01/T1_TOA')\\\n",
    "                    .filterDate('2011-01-01', '2021-09-30')\\\n",
    "                    .filterBounds(AOI)\\\n",
    "                    .sort('CLOUD_COVER')\\\n",
    "                    .first()\\\n",
    "                    .select(bands))\n",
    "\n",
    "\n",
    "# Compute cloud score.\n",
    "cloudScore = ee.Algorithms.Landsat.simpleCloudScore(landsat).select('cloud')\n",
    "\n",
    "# Mask the input for clouds.  Compute the min of the input mask to mask\n",
    "# pixels where any band is masked.  Combine that with the cloud mask.\n",
    "Input = landsat.updateMask(landsat.mask().reduce('min').And(cloudScore.lte(90)))\n",
    "\n",
    "# Use MODIS land cover, IGBP (International Geosphere-Biosphere Programme) classification, for training.\n",
    "# This data set is one of the products of the International Satellite Land-Surface Climatology Project, \n",
    "# Initiative II (ISLSCP II) data collection.\n",
    "modis = ee.Image('MODIS/051/MCD12Q1/2013_01_01').select('Land_Cover_Type_1')\n",
    "\n",
    "# Sample the input imagery to get a FeatureCollection of training data.\n",
    "# Get the values for all pixels in each polygon in the training.\n",
    "training = Input.addBands(modis).sample(numPixels=5000, seed=0)\n",
    "print(f\"The number of total images is : {training.size().getInfo()}\")\n",
    "print()\n",
    "\n",
    "\n",
    "# The randomColumn() method will add a column of uniform random\n",
    "# numbers in a column named 'random' by default.\n",
    "sample = training.randomColumn(seed=0)\n",
    "\n",
    "# Roughly 70% training, 30% testing.\n",
    "split = 0.7  \n",
    "trainingPartition = sample.filter(ee.Filter.lt('random', split))\n",
    "testingPartition = sample.filter(ee.Filter.gte('random', split))\n",
    "\n",
    "# Make a Random Forest classifier and train it.\n",
    "trainedclassifier = ee.Classifier.smileRandomForest(10).train(trainingPartition, 'Land_Cover_Type_1', inputProperties=bands)\n",
    "\n",
    "# Classify the input imagery.\n",
    "classified = Input.classify(trainedclassifier)\n",
    "\n",
    "# Get a confusion matrix representing resubstitution accuracy.\n",
    "trainAccuracy = trainedclassifier.confusionMatrix()\n",
    "\n",
    "# train confusion matrix into pandas\n",
    "trainConfusionMat = pd.DataFrame(np.asarray(trainAccuracy.getInfo()))\n",
    "\n",
    "print(f\"The number of images for training Partition is : {trainingPartition.size().getInfo()}\")\n",
    "print()\n",
    "print(f\"Resubstitution error matrix : {trainAccuracy.getInfo()}\")\n",
    "print()\n",
    "print(f\"Training accuracy is : {100 *  trainAccuracy.accuracy().getInfo():.2f} %\")\n",
    "print()\n",
    "\n",
    "\n",
    "# Classify the testing data.\n",
    "tested = testingPartition.classify(trainedclassifier)\n",
    "\n",
    "# Get a confusion matrix representing expected accuracy.\n",
    "testAccuracy = tested.errorMatrix('Land_Cover_Type_1', 'classification')\n",
    "\n",
    "# test error matrix into pandas\n",
    "testErrorMat = pd.DataFrame(np.asarray(testAccuracy.getInfo()))\n",
    "\n",
    "print(f\"The number of images for test Partition is : {testingPartition.size().getInfo()}\")\n",
    "print()\n",
    "print(f\"Test error matrix : {testAccuracy.getInfo()}\")\n",
    "print()\n",
    "print(f\"Test accuracy is : {100 * testAccuracy.accuracy().getInfo():.2f} %\")\n",
    "\n",
    "# Define a palette for the IGBP classification.\n",
    "igbpPalette = [\n",
    "  'aec3d4', # water\n",
    "  '152106', '225129', '369b47', '30eb5b', '387242', # forest\n",
    "  '6a2325', 'c3aa69', 'b76031', 'd9903d', '91af40',  # shrub, grass\n",
    "  '111149', # wetlands\n",
    "  'cdb33b', # croplands\n",
    "  'cc0013', # urban\n",
    "  '33280d', # crop mosaic\n",
    "  'd7cdcc', # snow and ice\n",
    "  'f7e084', # barren\n",
    "  '6f6f6f'  # tundra\n",
    "]\n",
    "\n",
    "# # Display the input and the classification.\n",
    "# Input_token = Input.getMapId({'bands': ['B4', 'B3'], 'max': 0.5}) \n",
    "# classified_token = classified.getMapId({'palette': igbpPalette, 'min': 0, 'max': 17})\n",
    "# center = [-12.57, 35.52]\n",
    "# Mapdisplay(center, {'Landsat':Input_token,'LandUse':classified_token}, zoom_start=8)\n",
    "\n",
    "# Display the input and the classification.\n",
    "map3.centerObject(AOI, 8)\n",
    "map3.addLayer(Input, {'bands': ['B4', 'B3', 'B1'], 'max': 0.4}, 'landsat') # L5 B4=NIR B3=Red B1=Blue\n",
    "map3.addLayer(classified, {'palette': igbpPalette, 'min': 0, 'max': 17}, 'classification')\n",
    "\n",
    "\n",
    "# Add legend\n",
    "legend_keys = ['water', 'forest', 'forest', 'forest', 'forest', 'forest', 'shrub, grass', \n",
    "               'shrub, grass', 'shrub, grass', 'shrub , grass', 'shrub , grass', 'wetlands', \n",
    "               'croplands', 'urban', 'crop mosaic', 'snow and ice', 'barren', 'tundra']\n",
    "\n",
    "legend_colors = ['aec3d4', '152106', '225129', '369b47', '30eb5b', '387242', '6a2325', \n",
    "                 'c3aa69', 'b76031', 'd9903d', '91af40', '111149', 'cdb33b', 'cc0013',\n",
    "                 '33280d', 'd7cdcc', 'f7e084', '6f6f6f']\n",
    "# legend_colors = ['blue', 'blueviolet', 'blueviolet', 'blueviolet', 'blueviolet', 'blueviolet', 'gray', \n",
    "#                  'gray', 'gray', 'gray', 'gray', 'maroon', 'green', 'yellow',\n",
    "#                  'black', 'chocolate', 'cyan', 'darkorange']\n",
    "\n",
    "\n",
    "# Classify the input imagery.\n",
    "classified = classified.remap([0,1,2,3,4,5,6,7,8,9,10,11,12,13,14,15,16], [1,2,3,4,5,6,7,8,9,10,11,12,13,14,15,16,17])\n",
    "\n",
    "map3.addLayer(classified, {'min': 0, 'max': 17, 'palette': legend_colors}, 'Labelled clusters')\n",
    "map3.add_legend(legend_keys=legend_keys, legend_colors=legend_colors, position='bottomright')\n",
    "map3"
   ]
  },
  {
   "cell_type": "markdown",
   "id": "db86d019",
   "metadata": {},
   "source": [
    "The accuracy estimated from training data is an overestimate because the random forest is “fit” to the training data. The expected accuracy on unknown data is better, as indicated by the estimate from the test data."
   ]
  },
  {
   "cell_type": "code",
   "execution_count": 22,
   "id": "50599dba",
   "metadata": {},
   "outputs": [
    {
     "data": {
      "application/vnd.jupyter.widget-view+json": {
       "model_id": "70e52f5ba6e94c5a9e5cb365de5acf32",
       "version_major": 2,
       "version_minor": 0
      },
      "text/plain": [
       "Map(center=[-13.304102866767076, 36.76025390625], controls=(WidgetControl(options=['position', 'transparent_bg…"
      ]
     },
     "metadata": {},
     "output_type": "display_data"
    }
   ],
   "source": [
    "map3"
   ]
  },
  {
   "cell_type": "code",
   "execution_count": 55,
   "id": "c3b6836f",
   "metadata": {},
   "outputs": [
    {
     "data": {
      "image/png": "[encoded data removed]",
      "text/plain": [
       "<Figure size 720x720 with 2 Axes>"
      ]
     },
     "metadata": {
      "needs_background": "light"
     },
     "output_type": "display_data"
    }
   ],
   "source": [
    "trainCM_L5 = trainConfusionMat/trainingPartition.size().getInfo()\n",
    "\n",
    "fig, ax = plt.subplots(1, figsize=(10,10))\n",
    "sns.heatmap(trainCM_L5, annot=True)\n",
    "ax.set_xlabel('model predictions', fontsize=10)\n",
    "ax.set_ylabel('actual', fontsize=10)\n",
    "plt.title(\"Training data confusion matrix\", fontsize=15);"
   ]
  },
  {
   "cell_type": "code",
   "execution_count": 56,
   "id": "66586c7a",
   "metadata": {},
   "outputs": [
    {
     "data": {
      "image/png": "[encoded data removed]",
      "text/plain": [
       "<Figure size 720x720 with 2 Axes>"
      ]
     },
     "metadata": {
      "needs_background": "light"
     },
     "output_type": "display_data"
    }
   ],
   "source": [
    "testEM_L5 = testErrorMat/testingPartition.size().getInfo()\n",
    "\n",
    "fig, ax = plt.subplots(1, figsize=(10,10))\n",
    "sns.heatmap(testEM_L5, annot=True)\n",
    "ax.set_xlabel('model predictions', fontsize=10)\n",
    "ax.set_ylabel('actual', fontsize=10)\n",
    "plt.title(\"Test data error matrix\", fontsize=15);"
   ]
  },
  {
   "cell_type": "markdown",
   "id": "74d95910",
   "metadata": {},
   "source": [
    "#### Let's add the number of trees"
   ]
  },
  {
   "cell_type": "code",
   "execution_count": 57,
   "id": "24fdde8e",
   "metadata": {},
   "outputs": [
    {
     "name": "stdout",
     "output_type": "stream",
     "text": [
      "The number of total images is : 4587\n",
      "\n",
      "The number of images for training Partition is : 3249\n",
      "\n",
      "Resubstitution error matrix : [[0, 0, 0, 0, 0, 0, 0, 0, 0, 0, 0, 0, 0, 0, 0], [0, 0, 0, 0, 0, 0, 0, 0, 0, 0, 0, 0, 0, 0, 0], [0, 0, 3, 0, 0, 0, 0, 0, 0, 0, 0, 0, 0, 0, 0], [0, 0, 0, 0, 0, 0, 0, 0, 0, 0, 0, 0, 0, 0, 0], [0, 0, 0, 0, 0, 0, 0, 0, 0, 0, 0, 0, 0, 0, 0], [0, 0, 0, 0, 0, 15, 0, 0, 43, 0, 0, 0, 0, 0, 0], [0, 0, 0, 0, 0, 0, 0, 0, 0, 0, 0, 0, 0, 0, 0], [0, 0, 0, 0, 0, 0, 0, 0, 0, 0, 0, 0, 0, 0, 0], [0, 0, 0, 0, 0, 0, 0, 0, 3142, 0, 0, 0, 0, 0, 0], [0, 0, 0, 0, 0, 0, 0, 0, 27, 4, 0, 0, 0, 0, 0], [0, 0, 0, 0, 0, 0, 0, 0, 1, 0, 3, 0, 0, 0, 0], [0, 0, 0, 0, 0, 0, 0, 0, 0, 0, 0, 0, 0, 0, 0], [0, 0, 0, 0, 0, 0, 0, 0, 3, 0, 0, 0, 1, 0, 0], [0, 0, 0, 0, 0, 0, 0, 0, 1, 0, 0, 0, 0, 0, 0], [0, 0, 0, 0, 0, 0, 0, 0, 4, 0, 0, 0, 0, 0, 2]]\n",
      "\n",
      "Training accuracy is : 97.57 %\n",
      "\n",
      "The number of images for test Partition is : 1338\n",
      "\n",
      "Test error matrix : [[0, 0, 0, 0, 0, 0, 0, 0, 0, 0, 0, 0, 0, 0, 0], [0, 0, 0, 0, 0, 0, 0, 0, 0, 0, 0, 0, 0, 0, 0], [0, 0, 0, 0, 0, 0, 0, 0, 0, 0, 0, 0, 0, 0, 0], [0, 0, 0, 0, 0, 0, 0, 0, 0, 0, 0, 0, 0, 0, 0], [0, 0, 0, 0, 0, 0, 0, 0, 0, 0, 0, 0, 0, 0, 0], [0, 0, 0, 0, 0, 0, 0, 0, 27, 0, 0, 0, 0, 0, 0], [0, 0, 0, 0, 0, 0, 0, 0, 0, 0, 0, 0, 0, 0, 0], [0, 0, 0, 0, 0, 0, 0, 0, 0, 0, 0, 0, 0, 0, 0], [0, 0, 0, 0, 0, 0, 0, 0, 1289, 0, 0, 0, 0, 0, 0], [0, 0, 0, 0, 0, 0, 0, 0, 19, 0, 0, 0, 0, 0, 0], [0, 0, 0, 0, 0, 0, 0, 0, 1, 0, 0, 0, 0, 0, 0], [0, 0, 0, 0, 0, 0, 0, 0, 0, 0, 0, 0, 0, 0, 0], [0, 0, 0, 0, 0, 0, 0, 0, 0, 0, 0, 0, 0, 0, 0], [0, 0, 0, 0, 0, 0, 0, 0, 0, 0, 0, 0, 0, 0, 0], [0, 0, 0, 0, 0, 0, 0, 0, 2, 0, 0, 0, 0, 0, 0]]\n",
      "\n",
      "Test accuracy is : 96.34 %\n"
     ]
    }
   ],
   "source": [
    "# Add map\n",
    "map4 = geemap.Map()\n",
    "\n",
    "# Define a region of interest as a point.  Change the coordinates\n",
    "# to get a classification of any place where there is imagery.\n",
    "coords = geojson['features'][0]['geometry']['coordinates']\n",
    "AOI = ee.Geometry.Point(coords)\n",
    "\n",
    "# Chosen bands\n",
    "bands = [ 'B1','B2', 'B3', 'B4', 'B5', 'B6', 'B7']\n",
    "\n",
    "# Load Landsat 5 input imagery.\n",
    "# 1. Filter to get only one year of images.\n",
    "# 2. Filter to get only images under the region of interest.\n",
    "# 3. Sort by scene cloudiness, ascending.\n",
    "# 4. Get the first (least cloudy) scene.\n",
    "# 5. Select the bands\n",
    "landsat = ee.Image(ee.ImageCollection('LANDSAT/LT05/C01/T1_TOA')\\\n",
    "                    .filterDate('2011-01-01', '2021-09-30')\\\n",
    "                    .filterBounds(AOI)\\\n",
    "                    .sort('CLOUD_COVER')\\\n",
    "                    .first()\\\n",
    "                    .select(bands))\n",
    "\n",
    "\n",
    "# Compute cloud score.\n",
    "cloudScore = ee.Algorithms.Landsat.simpleCloudScore(landsat).select('cloud')\n",
    "\n",
    "# Mask the input for clouds.  Compute the min of the input mask to mask\n",
    "# pixels where any band is masked.  Combine that with the cloud mask.\n",
    "Input = landsat.updateMask(landsat.mask().reduce('min').And(cloudScore.lte(90)))\n",
    "\n",
    "# Use MODIS land cover, IGBP (International Geosphere-Biosphere Programme) classification, for training.\n",
    "# This data set is one of the products of the International Satellite Land-Surface Climatology Project, \n",
    "# Initiative II (ISLSCP II) data collection.\n",
    "modis = ee.Image('MODIS/051/MCD12Q1/2013_01_01').select('Land_Cover_Type_1')\n",
    "\n",
    "\n",
    "# Sample the input imagery to get a FeatureCollection of training data.\n",
    "# Get the values for all pixels in each polygon in the training.\n",
    "training = Input.addBands(modis).sample(numPixels=5000, seed=0)\n",
    "print(f\"The number of total images is : {training.size().getInfo()}\")\n",
    "print()\n",
    "\n",
    "\n",
    "# The randomColumn() method will add a column of uniform random\n",
    "# numbers in a column named 'random' by default.\n",
    "sample = training.randomColumn(seed=0)\n",
    "\n",
    "# Roughly 70% training, 30% testing.\n",
    "split = 0.7  \n",
    "trainingPartition = sample.filter(ee.Filter.lt('random', split))\n",
    "testingPartition = sample.filter(ee.Filter.gte('random', split))\n",
    "\n",
    "# Make a Random Forest classifier and train it.\n",
    "trainedclassifier = ee.Classifier.smileRandomForest(20).train(trainingPartition, 'Land_Cover_Type_1', inputProperties=bands)\n",
    "\n",
    "# Classify the input imagery.\n",
    "classified = Input.classify(trainedclassifier)\n",
    "\n",
    "# Get a confusion matrix representing resubstitution accuracy.\n",
    "trainAccuracy = trainedclassifier.confusionMatrix()\n",
    "\n",
    "# train confusion matrix into pandas\n",
    "trainConfusionMat = pd.DataFrame(np.asarray(trainAccuracy.getInfo()))\n",
    "\n",
    "print(f\"The number of images for training Partition is : {trainingPartition.size().getInfo()}\")\n",
    "print()\n",
    "print(f\"Resubstitution error matrix : {trainAccuracy.getInfo()}\")\n",
    "print()\n",
    "print(f\"Training accuracy is : {100 *  trainAccuracy.accuracy().getInfo():.2f} %\")\n",
    "print()\n",
    "\n",
    "\n",
    "# Classify the testing data.\n",
    "tested = testingPartition.classify(trainedclassifier)\n",
    "\n",
    "# Get a confusion matrix representing expected accuracy.\n",
    "testAccuracy = tested.errorMatrix('Land_Cover_Type_1', 'classification')\n",
    "\n",
    "# test error matrix into pandas\n",
    "testErrorMat = pd.DataFrame(np.asarray(testAccuracy.getInfo()))\n",
    "\n",
    "print(f\"The number of images for test Partition is : {testingPartition.size().getInfo()}\")\n",
    "print()\n",
    "print(f\"Test error matrix : {testAccuracy.getInfo()}\")\n",
    "print()\n",
    "print(f\"Test accuracy is : {100 * testAccuracy.accuracy().getInfo():.2f} %\")\n",
    "\n",
    "# Define a palette for the IGBP classification.\n",
    "igbpPalette = [\n",
    "  'aec3d4', # water\n",
    "  '152106', '225129', '369b47', '30eb5b', '387242', # forest\n",
    "  '6a2325', 'c3aa69', 'b76031', 'd9903d', '91af40',  # shrub, grass\n",
    "  '111149', # wetlands\n",
    "  'cdb33b', # croplands\n",
    "  'cc0013', # urban\n",
    "  '33280d', # crop mosaic\n",
    "  'd7cdcc', # snow and ice\n",
    "  'f7e084', # barren\n",
    "  '6f6f6f'  # tundra\n",
    "]\n",
    "\n",
    "# # Display the input and the classification.\n",
    "# Input_token = Input.getMapId({'bands': ['B4', 'B3'], 'max': 0.5}) \n",
    "# classified_token = classified.getMapId({'palette': igbpPalette, 'min': 0, 'max': 17})\n",
    "# center = [-12.57, 35.52]\n",
    "# Mapdisplay(center, {'Landsat':Input_token,'LandUse':classified_token}, zoom_start=8)\n",
    "\n",
    "# Display the input and the classification.\n",
    "map4.centerObject(AOI, 8)\n",
    "map4.addLayer(Input, {'bands': ['B4', 'B3', 'B1'], 'max': 0.4}, 'landsat') # L5 B4=NIR B3=Red B1=Blue\n",
    "map4.addLayer(classified, {'palette': igbpPalette, 'min': 0, 'max': 17}, 'classification')\n",
    "\n",
    "\n",
    "# Add legend\n",
    "legend_keys = ['water', 'forest', 'forest', 'forest', 'forest', 'forest', 'shrub, grass', \n",
    "               'shrub, grass', 'shrub, grass', 'shrub , grass', 'shrub , grass', 'wetlands', \n",
    "               'croplands', 'urban', 'crop mosaic', 'snow and ice', 'barren', 'tundra']\n",
    "\n",
    "legend_colors = ['aec3d4', '152106', '225129', '369b47', '30eb5b', '387242', '6a2325', \n",
    "                 'c3aa69', 'b76031', 'd9903d', '91af40', '111149', 'cdb33b', 'cc0013',\n",
    "                 '33280d', 'd7cdcc', 'f7e084', '6f6f6f']\n",
    "# legend_colors = ['blue', 'blueviolet', 'blueviolet', 'blueviolet', 'blueviolet', 'blueviolet', 'gray', \n",
    "#                  'gray', 'gray', 'gray', 'gray', 'maroon', 'green', 'yellow',\n",
    "#                  'black', 'chocolate', 'cyan', 'darkorange']\n",
    "\n",
    "\n",
    "# Classify the input imagery.\n",
    "classified = classified.remap([0,1,2,3,4,5,6,7,8,9,10,11,12,13,14,15,16], [1,2,3,4,5,6,7,8,9,10,11,12,13,14,15,16,17])\n",
    "\n",
    "map4.addLayer(classified, {'min': 0, 'max': 17, 'palette': legend_colors}, 'Labelled clusters')\n",
    "map4.add_legend(legend_keys=legend_keys, legend_colors=legend_colors, position='bottomright')"
   ]
  },
  {
   "cell_type": "code",
   "execution_count": 58,
   "id": "f7576711",
   "metadata": {},
   "outputs": [
    {
     "data": {
      "application/vnd.jupyter.widget-view+json": {
       "model_id": "10f0093023f74933a35f52591867c41d",
       "version_major": 2,
       "version_minor": 0
      },
      "text/plain": [
       "Map(center=[-13.304102866767076, 36.76025390625], controls=(WidgetControl(options=['position', 'transparent_bg…"
      ]
     },
     "metadata": {},
     "output_type": "display_data"
    }
   ],
   "source": [
    "map4"
   ]
  },
  {
   "cell_type": "code",
   "execution_count": 17,
   "id": "58a75857",
   "metadata": {},
   "outputs": [],
   "source": []
  },
  {
   "cell_type": "code",
   "execution_count": 18,
   "id": "e8b36db8",
   "metadata": {},
   "outputs": [],
   "source": [
    "#modis.getInfo()"
   ]
  },
  {
   "cell_type": "code",
   "execution_count": 19,
   "id": "6627a2ae",
   "metadata": {},
   "outputs": [
    {
     "data": {
      "text/plain": [
       "dict"
      ]
     },
     "execution_count": 19,
     "metadata": {},
     "output_type": "execute_result"
    }
   ],
   "source": [
    "type(modis.getInfo())"
   ]
  },
  {
   "cell_type": "code",
   "execution_count": 20,
   "id": "820c0644",
   "metadata": {},
   "outputs": [
    {
     "data": {
      "text/plain": [
       "5"
      ]
     },
     "execution_count": 20,
     "metadata": {},
     "output_type": "execute_result"
    }
   ],
   "source": [
    "len(modis.getInfo())"
   ]
  },
  {
   "cell_type": "code",
   "execution_count": 21,
   "id": "560cd81b",
   "metadata": {},
   "outputs": [
    {
     "data": {
      "text/plain": [
       "[86400, 43200]"
      ]
     },
     "execution_count": 21,
     "metadata": {},
     "output_type": "execute_result"
    }
   ],
   "source": [
    "modis.getInfo()['bands'][0]['dimensions']"
   ]
  },
  {
   "cell_type": "code",
   "execution_count": 22,
   "id": "18a82f61",
   "metadata": {},
   "outputs": [
    {
     "data": {
      "text/plain": [
       "[{'id': 'Land_Cover_Type_1',\n",
       "  'data_type': {'type': 'PixelType', 'precision': 'int', 'min': 0, 'max': 255},\n",
       "  'dimensions': [86400, 43200],\n",
       "  'crs': 'SR-ORG:6974',\n",
       "  'crs_transform': [463.3127165279165,\n",
       "   0,\n",
       "   -20015109.353988,\n",
       "   0,\n",
       "   -463.3127165274999,\n",
       "   10007554.676994]}]"
      ]
     },
     "execution_count": 22,
     "metadata": {},
     "output_type": "execute_result"
    }
   ],
   "source": [
    "modis.getInfo()['bands']"
   ]
  },
  {
   "cell_type": "code",
   "execution_count": 23,
   "id": "6cffdb28",
   "metadata": {},
   "outputs": [
    {
     "data": {
      "text/plain": [
       "dict"
      ]
     },
     "execution_count": 23,
     "metadata": {},
     "output_type": "execute_result"
    }
   ],
   "source": [
    "type(training.getInfo())"
   ]
  },
  {
   "cell_type": "code",
   "execution_count": 24,
   "id": "20babd04",
   "metadata": {},
   "outputs": [],
   "source": [
    "#training.getInfo()"
   ]
  },
  {
   "cell_type": "code",
   "execution_count": null,
   "id": "23023a5d",
   "metadata": {},
   "outputs": [],
   "source": []
  }
 ],
 "metadata": {
  "kernelspec": {
   "display_name": "Python 3",
   "language": "python",
   "name": "python3"
  },
  "language_info": {
   "codemirror_mode": {
    "name": "ipython",
    "version": 3
   },
   "file_extension": ".py",
   "mimetype": "text/x-python",
   "name": "python",
   "nbconvert_exporter": "python",
   "pygments_lexer": "ipython3",
   "version": "3.7.6"
  }
 },
 "nbformat": 4,
 "nbformat_minor": 5
}
